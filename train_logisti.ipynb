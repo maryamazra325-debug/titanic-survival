{
 "cells": [
  {
   "cell_type": "code",
   "execution_count": 2,
   "id": "6f617476",
   "metadata": {},
   "outputs": [
    {
     "name": "stdout",
     "output_type": "stream",
     "text": [
      "Libraries imported successfully!\n"
     ]
    }
   ],
   "source": [
    "# Cell 1: Import libraries\n",
    "import pandas as pd\n",
    "import numpy as np\n",
    "from sklearn.model_selection import train_test_split\n",
    "from sklearn.linear_model import LogisticRegression\n",
    "from sklearn.preprocessing import StandardScaler\n",
    "from sklearn.metrics import accuracy_score\n",
    "import pickle\n",
    "import seaborn as sns\n",
    "\n",
    "print(\"Libraries imported successfully!\")"
   ]
  },
  {
   "cell_type": "code",
   "execution_count": 3,
   "id": "ef9022ab",
   "metadata": {},
   "outputs": [
    {
     "name": "stdout",
     "output_type": "stream",
     "text": [
      "Data prepared successfully!\n",
      "Dataset shape: (712, 7)\n",
      "Columns: ['survived', 'pclass', 'sex', 'age', 'fare', 'embarked_Q', 'embarked_S']\n"
     ]
    }
   ],
   "source": [
    "# Cell 2: Load and prepare data\n",
    "# Load Titanic dataset\n",
    "df = sns.load_dataset('titanic')\n",
    "\n",
    "# Select relevant columns and drop missing values\n",
    "df = df[['survived', 'pclass', 'sex', 'age', 'fare', 'embarked']].dropna()\n",
    "\n",
    "# Convert sex to numerical (male: 0, female: 1)\n",
    "df['sex'] = df['sex'].map({'male': 0, 'female': 1})\n",
    "\n",
    "# Convert embarked to dummy variables\n",
    "df = pd.get_dummies(df, columns=['embarked'], drop_first=True)\n",
    "\n",
    "print(\"Data prepared successfully!\")\n",
    "print(f\"Dataset shape: {df.shape}\")\n",
    "print(f\"Columns: {df.columns.tolist()}\")"
   ]
  },
  {
   "cell_type": "code",
   "execution_count": 4,
   "id": "9f4c6097",
   "metadata": {},
   "outputs": [
    {
     "name": "stdout",
     "output_type": "stream",
     "text": [
      "Features and target separated\n",
      "X shape: (712, 6)\n",
      "y shape: (712,)\n",
      "Survival rate: 40.45%\n"
     ]
    }
   ],
   "source": [
    "# Cell 3: Split features and target\n",
    "X = df.drop('survived', axis=1)\n",
    "y = df['survived']\n",
    "\n",
    "print(\"Features and target separated\")\n",
    "print(f\"X shape: {X.shape}\")\n",
    "print(f\"y shape: {y.shape}\")\n",
    "print(f\"Survival rate: {y.mean():.2%}\")"
   ]
  },
  {
   "cell_type": "code",
   "execution_count": 5,
   "id": "fa46bbb3",
   "metadata": {},
   "outputs": [
    {
     "name": "stdout",
     "output_type": "stream",
     "text": [
      "Data split and scaled\n",
      "Training set: (569, 6)\n",
      "Test set: (143, 6)\n"
     ]
    }
   ],
   "source": [
    "# Cell 4: Split data and scale features\n",
    "# Split into train and test sets\n",
    "X_train, X_test, y_train, y_test = train_test_split(X, y, test_size=0.2, random_state=42)\n",
    "\n",
    "# Scale the features\n",
    "scaler = StandardScaler()\n",
    "X_train_scaled = scaler.fit_transform(X_train)\n",
    "X_test_scaled = scaler.transform(X_test)\n",
    "\n",
    "print(\"Data split and scaled\")\n",
    "print(f\"Training set: {X_train_scaled.shape}\")\n",
    "print(f\"Test set: {X_test_scaled.shape}\")"
   ]
  },
  {
   "cell_type": "code",
   "execution_count": 7,
   "id": "796100de",
   "metadata": {},
   "outputs": [
    {
     "name": "stdout",
     "output_type": "stream",
     "text": [
      "Model trained successfully!\n"
     ]
    }
   ],
   "source": [
    "# Cell 5: Train logistic regression model\n",
    "model = LogisticRegression(random_state=42, max_iter=1000)\n",
    "model.fit(X_train_scaled, y_train)\n",
    "\n",
    "print(\"Model trained successfully!\")"
   ]
  },
  {
   "cell_type": "code",
   "execution_count": 8,
   "id": "2b08955f",
   "metadata": {},
   "outputs": [
    {
     "name": "stdout",
     "output_type": "stream",
     "text": [
      "Model Accuracy: 0.7972 (79.72%)\n"
     ]
    }
   ],
   "source": [
    "# Cell 6: Evaluate model\n",
    "y_pred = model.predict(X_test_scaled)\n",
    "accuracy = accuracy_score(y_test, y_pred)\n",
    "\n",
    "print(f\"Model Accuracy: {accuracy:.4f} ({accuracy:.2%})\")"
   ]
  },
  {
   "cell_type": "code",
   "execution_count": 9,
   "id": "f05bccea",
   "metadata": {},
   "outputs": [
    {
     "name": "stdout",
     "output_type": "stream",
     "text": [
      "Model saved as 'simple_titanic_model.pkl'\n"
     ]
    }
   ],
   "source": [
    "# Cell 7: Save model and scaler\n",
    "with open('simple_titanic_model.pkl', 'wb') as f:\n",
    "    pickle.dump({'model': model, 'scaler': scaler}, f)\n",
    "\n",
    "print(\"Model saved as 'simple_titanic_model.pkl'\")"
   ]
  },
  {
   "cell_type": "code",
   "execution_count": 10,
   "id": "06d8f8cd",
   "metadata": {},
   "outputs": [
    {
     "name": "stdout",
     "output_type": "stream",
     "text": [
      "Model verification complete!\n",
      "Original accuracy: 0.7972\n",
      "Loaded model accuracy: 0.7972\n",
      "✅ Model saved and verified successfully!\n"
     ]
    }
   ],
   "source": [
    "# Cell 8: Verify the saved model\n",
    "# Load and test the saved model\n",
    "with open('simple_titanic_model.pkl', 'rb') as f:\n",
    "    loaded_artifacts = pickle.load(f)\n",
    "\n",
    "loaded_model = loaded_artifacts['model']\n",
    "loaded_scaler = loaded_artifacts['scaler']\n",
    "\n",
    "# Test prediction with saved model\n",
    "test_prediction = loaded_model.predict(X_test_scaled)\n",
    "test_accuracy = accuracy_score(y_test, test_prediction)\n",
    "\n",
    "print(\"Model verification complete!\")\n",
    "print(f\"Original accuracy: {accuracy:.4f}\")\n",
    "print(f\"Loaded model accuracy: {test_accuracy:.4f}\")\n",
    "print(\"✅ Model saved and verified successfully!\")"
   ]
  },
  {
   "cell_type": "code",
   "execution_count": null,
   "id": "dc7e8204",
   "metadata": {},
   "outputs": [],
   "source": []
  }
 ],
 "metadata": {
  "kernelspec": {
   "display_name": "pkg",
   "language": "python",
   "name": "python3"
  },
  "language_info": {
   "codemirror_mode": {
    "name": "ipython",
    "version": 3
   },
   "file_extension": ".py",
   "mimetype": "text/x-python",
   "name": "python",
   "nbconvert_exporter": "python",
   "pygments_lexer": "ipython3",
   "version": "3.9.13"
  }
 },
 "nbformat": 4,
 "nbformat_minor": 5
}
